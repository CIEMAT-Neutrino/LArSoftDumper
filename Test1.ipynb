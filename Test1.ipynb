{
 "cells": [
  {
   "cell_type": "code",
   "execution_count": 1,
   "metadata": {},
   "outputs": [
    {
     "name": "stdout",
     "output_type": "stream",
     "text": [
      "Contenido del TTree:\n",
      "name                 | typename                 | interpretation                \n",
      "---------------------+--------------------------+-------------------------------\n",
      "TPCImgDataU          | std::vector<float>       | AsJagged(AsDtype('>f4'), he...\n",
      "TPCImgWidthU         | int32_t                  | AsDtype('>i4')\n",
      "TPCImgHeightU        | int32_t                  | AsDtype('>i4')\n",
      "TPCImgDataV          | std::vector<float>       | AsJagged(AsDtype('>f4'), he...\n",
      "TPCImgWidthV         | int32_t                  | AsDtype('>i4')\n",
      "TPCImgHeightV        | int32_t                  | AsDtype('>i4')\n",
      "TPCImgDataY          | std::vector<float>       | AsJagged(AsDtype('>f4'), he...\n",
      "TPCImgWidthY         | int32_t                  | AsDtype('>i4')\n",
      "TPCImgHeightY        | int32_t                  | AsDtype('>i4')\n",
      "OpImgData            | std::vector<float>       | AsJagged(AsDtype('>f4'), he...\n",
      "OpImgWidth           | int32_t                  | AsDtype('>i4')\n",
      "OpImgHeight          | int32_t                  | AsDtype('>i4')\n",
      "InteractionType      | int32_t                  | AsDtype('>i4')\n",
      "SimPhotonsData       | std::vector<int32_t>     | AsJagged(AsDtype('>i4'), he...\n"
     ]
    }
   ],
   "source": [
    "import uproot\n",
    "import matplotlib.pyplot as plt\n",
    "import numpy as np\n",
    "\n",
    "#Load test file to see what's inside the files:\n",
    "# file = uproot.open(\"ev{}.root\".format(1))\n",
    "file = uproot.open(\"NNDumper_tree.root\")\n",
    "tree = file[\"nndumper\"][\"evttree\"] \n",
    "print(\"Contenido del TTree:\")\n",
    "tree.show()"
   ]
  },
  {
   "cell_type": "code",
   "execution_count": 2,
   "metadata": {},
   "outputs": [
    {
     "name": "stdout",
     "output_type": "stream",
     "text": [
      "Numero de eventos en el .root file:  1\n",
      "Tamaño de las imagenes de TPC: 248 x 200\n",
      "Tamaño de las imagenes opticas: 48 x 600\n",
      "Nº de canales opticos de PMT coated (VUV+VIS): 96\n",
      "Tipo de interaccion: 1002\n"
     ]
    }
   ],
   "source": [
    "#For big files, use lazy arrays instead -> Memory isn't infinite!\n",
    "\n",
    "# lazyarray = uproot.lazy(\"ev{}.root\".format(1)+\":nndumper/evttree\")\n",
    "lazyarray = uproot.lazy(\"NNDumper_tree.root\")\n",
    "NEvents=len(lazyarray)\n",
    "h_TPC=lazyarray[0][\"TPCImgHeightU\"]\n",
    "w_Opt=lazyarray[0][\"OpImgWidth\"]\n",
    "h_Opt=lazyarray[0][\"OpImgHeight\"]\n",
    "i_type=lazyarray[0][\"InteractionType\"]\n",
    "w_TPC=lazyarray[0][\"TPCImgWidthU\"]\n",
    "\n",
    "\n",
    "print(\"Numero de eventos en el .root file: \",NEvents)\n",
    "print(\"Tamaño de las imagenes de TPC:\",w_TPC,\"x\",h_TPC)\n",
    "print(\"Tamaño de las imagenes opticas:\",w_Opt,\"x\",h_Opt)#hay 96 canales ópticos, pero por simplicidad para la CNN colapsamos los canales enfrentados en el mismo: ch(6+7)...->96/2=48\n",
    "print(\"Nº de canales opticos de PMT coated (VUV+VIS):\",len(lazyarray[0][\"SimPhotonsData\"].to_numpy()))\n",
    "print(\"Tipo de interaccion:\",i_type) #1001 CCQE, lo demás, backgrounds (mirar interaction.png, cada numero es una interacción distinta)"
   ]
  },
  {
   "cell_type": "code",
   "execution_count": 3,
   "metadata": {},
   "outputs": [
    {
     "data": {
      "text/plain": [
       "3229042.8"
      ]
     },
     "execution_count": 3,
     "metadata": {},
     "output_type": "execute_result"
    }
   ],
   "source": [
    "# np.sum(lazyarray[0][\"OpImgData\"])\n",
    "np.sum(lazyarray[0][\"TPCImgDataU\"])\n"
   ]
  },
  {
   "cell_type": "code",
   "execution_count": 5,
   "metadata": {},
   "outputs": [
    {
     "name": "stdout",
     "output_type": "stream",
     "text": [
      "Imagen de TPC\n"
     ]
    },
    {
     "data": {
      "text/plain": [
       "<Figure size 432x288 with 0 Axes>"
      ]
     },
     "metadata": {},
     "output_type": "display_data"
    },
    {
     "data": {
      "image/png": "[encoded data removed]",
      "text/plain": [
       "<Figure size 640x640 with 1 Axes>"
      ]
     },
     "metadata": {
      "needs_background": "light"
     },
     "output_type": "display_data"
    },
    {
     "name": "stdout",
     "output_type": "stream",
     "text": [
      "Imagen Optica\n"
     ]
    },
    {
     "data": {
      "image/png": "[encoded data removed]",
      "text/plain": [
       "<Figure size 640x640 with 1 Axes>"
      ]
     },
     "metadata": {
      "needs_background": "light"
     },
     "output_type": "display_data"
    }
   ],
   "source": [
    "#Loop over the events in the run\n",
    "# for i in range(NEvents):\n",
    "for i in range(1):\n",
    "    TPC_picture_root = lazyarray[i][\"TPCImgDataU\"]\n",
    "    TPC_picture_nump =TPC_picture_root.to_numpy()\n",
    "\n",
    "    Opt_picture_root = lazyarray[i][\"OpImgData\"]\n",
    "    Opt_picture_nump =Opt_picture_root.to_numpy()\n",
    "\n",
    "    fig = plt.figure();\n",
    "\n",
    "    TPC_picture_matr =np.reshape(TPC_picture_nump,(h_TPC,w_TPC));\n",
    "    Opt_picture_matr =np.reshape(Opt_picture_nump,(h_Opt,w_Opt));\n",
    "    \n",
    "    #Funciona!\n",
    "    print(\"Imagen de TPC\")\n",
    "    plt.figure(figsize=(8, 8), dpi=80);\n",
    "    plt.imshow(TPC_picture_matr,cmap = 'jet', interpolation='none');\n",
    "    # plt.colorbar()\n",
    "    plt.show();\n",
    "\n",
    "    print(\"Imagen Optica\")\n",
    "    Opt_picture_matr[Opt_picture_matr==0]=-100;\n",
    "    plt.figure(figsize=(8, 8), dpi=80);\n",
    "    plt.imshow(Opt_picture_matr,cmap = 'jet', interpolation='none',aspect=w_Opt/h_Opt);\n",
    "    plt.show();\n",
    "\n",
    "\n"
   ]
  },
  {
   "cell_type": "code",
   "execution_count": null,
   "metadata": {},
   "outputs": [],
   "source": []
  }
 ],
 "metadata": {
  "interpreter": {
   "hash": "916dbcbb3f70747c44a77c7bcd40155683ae19c65e1c03b4aa3499c5328201f1"
  },
  "kernelspec": {
   "display_name": "Python 3.8.10 64-bit",
   "language": "python",
   "name": "python3"
  },
  "language_info": {
   "codemirror_mode": {
    "name": "ipython",
    "version": 3
   },
   "file_extension": ".py",
   "mimetype": "text/x-python",
   "name": "python",
   "nbconvert_exporter": "python",
   "pygments_lexer": "ipython3",
   "version": "3.8.10"
  },
  "orig_nbformat": 4
 },
 "nbformat": 4,
 "nbformat_minor": 2
}
